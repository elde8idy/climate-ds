{
 "cells": [
  {
   "cell_type": "code",
   "execution_count": 1,
   "metadata": {
    "_cell_guid": "b1076dfc-b9ad-4769-8c92-a6c4dae69d19",
    "_uuid": "8f2839f25d086af736a60e9eeb907d3b93b6e0e5",
    "execution": {
     "iopub.execute_input": "2022-10-07T07:07:34.917945Z",
     "iopub.status.busy": "2022-10-07T07:07:34.916720Z",
     "iopub.status.idle": "2022-10-07T07:07:34.928193Z",
     "shell.execute_reply": "2022-10-07T07:07:34.926676Z",
     "shell.execute_reply.started": "2022-10-07T07:07:34.917845Z"
    }
   },
   "outputs": [
    {
     "data": {
      "text/plain": [
       "'# This Python 3 environment comes with many helpful analytics libraries installed\\n# It is defined by the kaggle/python Docker image: https://github.com/kaggle/docker-python\\n# For example, here\\'s several helpful packages to load\\n\\nimport numpy as np # linear algebra\\nimport pandas as pd # data processing, CSV file I/O (e.g. pd.read_csv)\\n\\n# Input data files are available in the read-only \"../input/\" directory\\n# For example, running this (by clicking run or pressing Shift+Enter) will list all files under the input directory\\n\\nimport os\\nfor dirname, _, filenames in os.walk(\\'/kaggle/input\\'):\\n    for filename in filenames:\\n        print(os.path.join(dirname, filename))\\n\\n# You can write up to 20GB to the current directory (/kaggle/working/) that gets preserved as output when you create a version using \"Save & Run All\" \\n# You can also write temporary files to /kaggle/temp/, but they won\\'t be saved outside of the current session'"
      ]
     },
     "execution_count": 1,
     "metadata": {},
     "output_type": "execute_result"
    }
   ],
   "source": [
    "'''# This Python 3 environment comes with many helpful analytics libraries installed\n",
    "# It is defined by the kaggle/python Docker image: https://github.com/kaggle/docker-python\n",
    "# For example, here's several helpful packages to load\n",
    "\n",
    "import numpy as np # linear algebra\n",
    "import pandas as pd # data processing, CSV file I/O (e.g. pd.read_csv)\n",
    "\n",
    "# Input data files are available in the read-only \"../input/\" directory\n",
    "# For example, running this (by clicking run or pressing Shift+Enter) will list all files under the input directory\n",
    "\n",
    "import os\n",
    "for dirname, _, filenames in os.walk('/kaggle/input'):\n",
    "    for filename in filenames:\n",
    "        print(os.path.join(dirname, filename))\n",
    "\n",
    "# You can write up to 20GB to the current directory (/kaggle/working/) that gets preserved as output when you create a version using \"Save & Run All\" \n",
    "# You can also write temporary files to /kaggle/temp/, but they won't be saved outside of the current session'''"
   ]
  },
  {
   "cell_type": "markdown",
   "metadata": {},
   "source": [
    "# "
   ]
  },
  {
   "cell_type": "markdown",
   "metadata": {},
   "source": [
    "# Effects of Climate Changes on Crop Yields using Machine Learning Techniques"
   ]
  },
  {
   "cell_type": "code",
   "execution_count": 2,
   "metadata": {
    "execution": {
     "iopub.execute_input": "2022-10-07T07:04:58.962355Z",
     "iopub.status.busy": "2022-10-07T07:04:58.961873Z",
     "iopub.status.idle": "2022-10-07T07:04:59.789595Z",
     "shell.execute_reply": "2022-10-07T07:04:59.788429Z",
     "shell.execute_reply.started": "2022-10-07T07:04:58.962317Z"
    }
   },
   "outputs": [],
   "source": [
    "#import libraries\n",
    "import pandas as pd\n",
    "import numpy as np\n",
    "import matplotlib.pyplot as plt \n",
    "import seaborn as sns\n",
    "from sklearn import metrics"
   ]
  },
  {
   "cell_type": "code",
   "execution_count": 3,
   "metadata": {
    "execution": {
     "iopub.execute_input": "2022-10-07T07:23:19.923809Z",
     "iopub.status.busy": "2022-10-07T07:23:19.923274Z",
     "iopub.status.idle": "2022-10-07T07:23:19.988759Z",
     "shell.execute_reply": "2022-10-07T07:23:19.987663Z",
     "shell.execute_reply.started": "2022-10-07T07:23:19.923766Z"
    }
   },
   "outputs": [],
   "source": [
    "#import dataset\n",
    "df=pd.read_csv(\"C:\\\\Users\\\\ahmed\\\\OneDrive\\\\سطح المكتب\\\\climate-ds.csv\")"
   ]
  },
  {
   "cell_type": "markdown",
   "metadata": {},
   "source": [
    "### Data Preprocessing\n",
    "#### 1) Checking our data****"
   ]
  },
  {
   "cell_type": "code",
   "execution_count": 4,
   "metadata": {
    "execution": {
     "iopub.execute_input": "2022-10-07T07:23:25.810117Z",
     "iopub.status.busy": "2022-10-07T07:23:25.808097Z",
     "iopub.status.idle": "2022-10-07T07:23:25.835385Z",
     "shell.execute_reply": "2022-10-07T07:23:25.833537Z",
     "shell.execute_reply.started": "2022-10-07T07:23:25.810055Z"
    }
   },
   "outputs": [
    {
     "data": {
      "text/html": [
       "<div>\n",
       "<style scoped>\n",
       "    .dataframe tbody tr th:only-of-type {\n",
       "        vertical-align: middle;\n",
       "    }\n",
       "\n",
       "    .dataframe tbody tr th {\n",
       "        vertical-align: top;\n",
       "    }\n",
       "\n",
       "    .dataframe thead th {\n",
       "        text-align: right;\n",
       "    }\n",
       "</style>\n",
       "<table border=\"1\" class=\"dataframe\">\n",
       "  <thead>\n",
       "    <tr style=\"text-align: right;\">\n",
       "      <th></th>\n",
       "      <th>Unnamed: 0</th>\n",
       "      <th>Area</th>\n",
       "      <th>Item</th>\n",
       "      <th>Year</th>\n",
       "      <th>average_rain_fall_mm_per_year</th>\n",
       "      <th>pesticides_tonnes</th>\n",
       "      <th>avg_temp</th>\n",
       "      <th>hg/ha_yield</th>\n",
       "    </tr>\n",
       "  </thead>\n",
       "  <tbody>\n",
       "    <tr>\n",
       "      <th>0</th>\n",
       "      <td>0</td>\n",
       "      <td>Albania</td>\n",
       "      <td>Maize</td>\n",
       "      <td>1990</td>\n",
       "      <td>1485</td>\n",
       "      <td>121.0</td>\n",
       "      <td>16.37</td>\n",
       "      <td>36613</td>\n",
       "    </tr>\n",
       "    <tr>\n",
       "      <th>1</th>\n",
       "      <td>1</td>\n",
       "      <td>Albania</td>\n",
       "      <td>Potatoes</td>\n",
       "      <td>1990</td>\n",
       "      <td>1485</td>\n",
       "      <td>121.0</td>\n",
       "      <td>16.37</td>\n",
       "      <td>66667</td>\n",
       "    </tr>\n",
       "    <tr>\n",
       "      <th>2</th>\n",
       "      <td>2</td>\n",
       "      <td>Albania</td>\n",
       "      <td>Rice, paddy</td>\n",
       "      <td>1990</td>\n",
       "      <td>1485</td>\n",
       "      <td>121.0</td>\n",
       "      <td>16.37</td>\n",
       "      <td>23333</td>\n",
       "    </tr>\n",
       "    <tr>\n",
       "      <th>3</th>\n",
       "      <td>3</td>\n",
       "      <td>Albania</td>\n",
       "      <td>Sorghum</td>\n",
       "      <td>1990</td>\n",
       "      <td>1485</td>\n",
       "      <td>121.0</td>\n",
       "      <td>16.37</td>\n",
       "      <td>12500</td>\n",
       "    </tr>\n",
       "    <tr>\n",
       "      <th>4</th>\n",
       "      <td>4</td>\n",
       "      <td>Albania</td>\n",
       "      <td>Soybeans</td>\n",
       "      <td>1990</td>\n",
       "      <td>1485</td>\n",
       "      <td>121.0</td>\n",
       "      <td>16.37</td>\n",
       "      <td>7000</td>\n",
       "    </tr>\n",
       "  </tbody>\n",
       "</table>\n",
       "</div>"
      ],
      "text/plain": [
       "   Unnamed: 0     Area         Item  Year  average_rain_fall_mm_per_year  \\\n",
       "0           0  Albania        Maize  1990                           1485   \n",
       "1           1  Albania     Potatoes  1990                           1485   \n",
       "2           2  Albania  Rice, paddy  1990                           1485   \n",
       "3           3  Albania      Sorghum  1990                           1485   \n",
       "4           4  Albania     Soybeans  1990                           1485   \n",
       "\n",
       "   pesticides_tonnes  avg_temp  hg/ha_yield  \n",
       "0              121.0     16.37        36613  \n",
       "1              121.0     16.37        66667  \n",
       "2              121.0     16.37        23333  \n",
       "3              121.0     16.37        12500  \n",
       "4              121.0     16.37         7000  "
      ]
     },
     "execution_count": 4,
     "metadata": {},
     "output_type": "execute_result"
    }
   ],
   "source": [
    "df.head()"
   ]
  },
  {
   "cell_type": "code",
   "execution_count": 5,
   "metadata": {
    "execution": {
     "iopub.execute_input": "2022-10-07T07:24:25.277407Z",
     "iopub.status.busy": "2022-10-07T07:24:25.276437Z",
     "iopub.status.idle": "2022-10-07T07:24:25.310404Z",
     "shell.execute_reply": "2022-10-07T07:24:25.309063Z",
     "shell.execute_reply.started": "2022-10-07T07:24:25.277359Z"
    }
   },
   "outputs": [
    {
     "name": "stdout",
     "output_type": "stream",
     "text": [
      "<class 'pandas.core.frame.DataFrame'>\n",
      "RangeIndex: 28242 entries, 0 to 28241\n",
      "Data columns (total 8 columns):\n",
      " #   Column                         Non-Null Count  Dtype  \n",
      "---  ------                         --------------  -----  \n",
      " 0   Unnamed: 0                     28242 non-null  int64  \n",
      " 1   Area                           28242 non-null  object \n",
      " 2   Item                           28242 non-null  object \n",
      " 3   Year                           28242 non-null  int64  \n",
      " 4   average_rain_fall_mm_per_year  28242 non-null  int64  \n",
      " 5   pesticides_tonnes              28242 non-null  float64\n",
      " 6   avg_temp                       28242 non-null  float64\n",
      " 7   hg/ha_yield                    28242 non-null  int64  \n",
      "dtypes: float64(2), int64(4), object(2)\n",
      "memory usage: 1.7+ MB\n"
     ]
    }
   ],
   "source": [
    "df.info()"
   ]
  },
  {
   "cell_type": "code",
   "execution_count": 6,
   "metadata": {
    "execution": {
     "iopub.execute_input": "2022-10-07T07:24:33.820202Z",
     "iopub.status.busy": "2022-10-07T07:24:33.819732Z",
     "iopub.status.idle": "2022-10-07T07:24:33.850733Z",
     "shell.execute_reply": "2022-10-07T07:24:33.849774Z",
     "shell.execute_reply.started": "2022-10-07T07:24:33.820164Z"
    }
   },
   "outputs": [
    {
     "name": "stdout",
     "output_type": "stream",
     "text": [
      "duplicated:  0 \n",
      "\n",
      "************************************************** \n",
      "\n",
      "nulls ;  Unnamed: 0                       0\n",
      "Area                             0\n",
      "Item                             0\n",
      "Year                             0\n",
      "average_rain_fall_mm_per_year    0\n",
      "pesticides_tonnes                0\n",
      "avg_temp                         0\n",
      "hg/ha_yield                      0\n",
      "dtype: int64 \n",
      "\n"
     ]
    }
   ],
   "source": [
    "# Cheching if there are duplicated rows\n",
    "print(\"duplicated: \",df.duplicated().sum(),\"\\n\")\n",
    "print(\"*\"*50,\"\\n\")\n",
    "# Cheching if there are Nulvalues\n",
    "print(\"nulls ; \",df.isna().sum(),\"\\n\")"
   ]
  },
  {
   "cell_type": "code",
   "execution_count": 7,
   "metadata": {},
   "outputs": [
    {
     "data": {
      "text/plain": [
       "array([[<AxesSubplot:title={'center':'Unnamed: 0'}>,\n",
       "        <AxesSubplot:title={'center':'Year'}>],\n",
       "       [<AxesSubplot:title={'center':'average_rain_fall_mm_per_year'}>,\n",
       "        <AxesSubplot:title={'center':'pesticides_tonnes'}>],\n",
       "       [<AxesSubplot:title={'center':'avg_temp'}>,\n",
       "        <AxesSubplot:title={'center':'hg/ha_yield'}>]], dtype=object)"
      ]
     },
     "execution_count": 7,
     "metadata": {},
     "output_type": "execute_result"
    },
    {
     "data": {
      "image/png": "[encoded data removed]",
      "text/plain": [
       "<Figure size 720x720 with 6 Axes>"
      ]
     },
     "metadata": {
      "needs_background": "light"
     },
     "output_type": "display_data"
    }
   ],
   "source": [
    "df.hist(bins=20,figsize=(10,10))"
   ]
  },
  {
   "cell_type": "markdown",
   "metadata": {},
   "source": [
    "#### 2) Cleaning our data\n",
    "\\"
   ]
  },
  {
   "cell_type": "code",
   "execution_count": 8,
   "metadata": {
    "execution": {
     "iopub.execute_input": "2022-10-07T07:24:47.638011Z",
     "iopub.status.busy": "2022-10-07T07:24:47.637419Z",
     "iopub.status.idle": "2022-10-07T07:24:47.670989Z",
     "shell.execute_reply": "2022-10-07T07:24:47.669467Z",
     "shell.execute_reply.started": "2022-10-07T07:24:47.637943Z"
    }
   },
   "outputs": [
    {
     "data": {
      "text/html": [
       "<div>\n",
       "<style scoped>\n",
       "    .dataframe tbody tr th:only-of-type {\n",
       "        vertical-align: middle;\n",
       "    }\n",
       "\n",
       "    .dataframe tbody tr th {\n",
       "        vertical-align: top;\n",
       "    }\n",
       "\n",
       "    .dataframe thead th {\n",
       "        text-align: right;\n",
       "    }\n",
       "</style>\n",
       "<table border=\"1\" class=\"dataframe\">\n",
       "  <thead>\n",
       "    <tr style=\"text-align: right;\">\n",
       "      <th></th>\n",
       "      <th>Area</th>\n",
       "      <th>Item</th>\n",
       "      <th>Year</th>\n",
       "      <th>average_rain_fall_mm_per_year</th>\n",
       "      <th>pesticides_tonnes</th>\n",
       "      <th>avg_temp</th>\n",
       "      <th>hg/ha_yield</th>\n",
       "    </tr>\n",
       "  </thead>\n",
       "  <tbody>\n",
       "    <tr>\n",
       "      <th>0</th>\n",
       "      <td>Albania</td>\n",
       "      <td>Maize</td>\n",
       "      <td>1990</td>\n",
       "      <td>1485</td>\n",
       "      <td>121.00</td>\n",
       "      <td>16.37</td>\n",
       "      <td>36613</td>\n",
       "    </tr>\n",
       "    <tr>\n",
       "      <th>1</th>\n",
       "      <td>Albania</td>\n",
       "      <td>Potatoes</td>\n",
       "      <td>1990</td>\n",
       "      <td>1485</td>\n",
       "      <td>121.00</td>\n",
       "      <td>16.37</td>\n",
       "      <td>66667</td>\n",
       "    </tr>\n",
       "    <tr>\n",
       "      <th>2</th>\n",
       "      <td>Albania</td>\n",
       "      <td>Rice, paddy</td>\n",
       "      <td>1990</td>\n",
       "      <td>1485</td>\n",
       "      <td>121.00</td>\n",
       "      <td>16.37</td>\n",
       "      <td>23333</td>\n",
       "    </tr>\n",
       "    <tr>\n",
       "      <th>3</th>\n",
       "      <td>Albania</td>\n",
       "      <td>Sorghum</td>\n",
       "      <td>1990</td>\n",
       "      <td>1485</td>\n",
       "      <td>121.00</td>\n",
       "      <td>16.37</td>\n",
       "      <td>12500</td>\n",
       "    </tr>\n",
       "    <tr>\n",
       "      <th>4</th>\n",
       "      <td>Albania</td>\n",
       "      <td>Soybeans</td>\n",
       "      <td>1990</td>\n",
       "      <td>1485</td>\n",
       "      <td>121.00</td>\n",
       "      <td>16.37</td>\n",
       "      <td>7000</td>\n",
       "    </tr>\n",
       "    <tr>\n",
       "      <th>...</th>\n",
       "      <td>...</td>\n",
       "      <td>...</td>\n",
       "      <td>...</td>\n",
       "      <td>...</td>\n",
       "      <td>...</td>\n",
       "      <td>...</td>\n",
       "      <td>...</td>\n",
       "    </tr>\n",
       "    <tr>\n",
       "      <th>28237</th>\n",
       "      <td>Zimbabwe</td>\n",
       "      <td>Rice, paddy</td>\n",
       "      <td>2013</td>\n",
       "      <td>657</td>\n",
       "      <td>2550.07</td>\n",
       "      <td>19.76</td>\n",
       "      <td>22581</td>\n",
       "    </tr>\n",
       "    <tr>\n",
       "      <th>28238</th>\n",
       "      <td>Zimbabwe</td>\n",
       "      <td>Sorghum</td>\n",
       "      <td>2013</td>\n",
       "      <td>657</td>\n",
       "      <td>2550.07</td>\n",
       "      <td>19.76</td>\n",
       "      <td>3066</td>\n",
       "    </tr>\n",
       "    <tr>\n",
       "      <th>28239</th>\n",
       "      <td>Zimbabwe</td>\n",
       "      <td>Soybeans</td>\n",
       "      <td>2013</td>\n",
       "      <td>657</td>\n",
       "      <td>2550.07</td>\n",
       "      <td>19.76</td>\n",
       "      <td>13142</td>\n",
       "    </tr>\n",
       "    <tr>\n",
       "      <th>28240</th>\n",
       "      <td>Zimbabwe</td>\n",
       "      <td>Sweet potatoes</td>\n",
       "      <td>2013</td>\n",
       "      <td>657</td>\n",
       "      <td>2550.07</td>\n",
       "      <td>19.76</td>\n",
       "      <td>22222</td>\n",
       "    </tr>\n",
       "    <tr>\n",
       "      <th>28241</th>\n",
       "      <td>Zimbabwe</td>\n",
       "      <td>Wheat</td>\n",
       "      <td>2013</td>\n",
       "      <td>657</td>\n",
       "      <td>2550.07</td>\n",
       "      <td>19.76</td>\n",
       "      <td>22888</td>\n",
       "    </tr>\n",
       "  </tbody>\n",
       "</table>\n",
       "<p>28242 rows × 7 columns</p>\n",
       "</div>"
      ],
      "text/plain": [
       "           Area            Item  Year  average_rain_fall_mm_per_year  \\\n",
       "0       Albania           Maize  1990                           1485   \n",
       "1       Albania        Potatoes  1990                           1485   \n",
       "2       Albania     Rice, paddy  1990                           1485   \n",
       "3       Albania         Sorghum  1990                           1485   \n",
       "4       Albania        Soybeans  1990                           1485   \n",
       "...         ...             ...   ...                            ...   \n",
       "28237  Zimbabwe     Rice, paddy  2013                            657   \n",
       "28238  Zimbabwe         Sorghum  2013                            657   \n",
       "28239  Zimbabwe        Soybeans  2013                            657   \n",
       "28240  Zimbabwe  Sweet potatoes  2013                            657   \n",
       "28241  Zimbabwe           Wheat  2013                            657   \n",
       "\n",
       "       pesticides_tonnes  avg_temp  hg/ha_yield  \n",
       "0                 121.00     16.37        36613  \n",
       "1                 121.00     16.37        66667  \n",
       "2                 121.00     16.37        23333  \n",
       "3                 121.00     16.37        12500  \n",
       "4                 121.00     16.37         7000  \n",
       "...                  ...       ...          ...  \n",
       "28237            2550.07     19.76        22581  \n",
       "28238            2550.07     19.76         3066  \n",
       "28239            2550.07     19.76        13142  \n",
       "28240            2550.07     19.76        22222  \n",
       "28241            2550.07     19.76        22888  \n",
       "\n",
       "[28242 rows x 7 columns]"
      ]
     },
     "execution_count": 8,
     "metadata": {},
     "output_type": "execute_result"
    }
   ],
   "source": [
    "df=df.drop([\"Unnamed: 0\"],axis=1)\n",
    "df"
   ]
  },
  {
   "cell_type": "code",
   "execution_count": 9,
   "metadata": {
    "execution": {
     "iopub.execute_input": "2022-10-07T07:25:20.095291Z",
     "iopub.status.busy": "2022-10-07T07:25:20.094794Z",
     "iopub.status.idle": "2022-10-07T07:25:20.132332Z",
     "shell.execute_reply": "2022-10-07T07:25:20.130699Z",
     "shell.execute_reply.started": "2022-10-07T07:25:20.095253Z"
    }
   },
   "outputs": [
    {
     "data": {
      "text/html": [
       "<div>\n",
       "<style scoped>\n",
       "    .dataframe tbody tr th:only-of-type {\n",
       "        vertical-align: middle;\n",
       "    }\n",
       "\n",
       "    .dataframe tbody tr th {\n",
       "        vertical-align: top;\n",
       "    }\n",
       "\n",
       "    .dataframe thead th {\n",
       "        text-align: right;\n",
       "    }\n",
       "</style>\n",
       "<table border=\"1\" class=\"dataframe\">\n",
       "  <thead>\n",
       "    <tr style=\"text-align: right;\">\n",
       "      <th></th>\n",
       "      <th>Year</th>\n",
       "      <th>average_rain_fall_mm_per_year</th>\n",
       "      <th>pesticides_tonnes</th>\n",
       "      <th>avg_temp</th>\n",
       "      <th>hg/ha_yield</th>\n",
       "    </tr>\n",
       "  </thead>\n",
       "  <tbody>\n",
       "    <tr>\n",
       "      <th>count</th>\n",
       "      <td>28242.000000</td>\n",
       "      <td>28242.00000</td>\n",
       "      <td>28242.000000</td>\n",
       "      <td>28242.000000</td>\n",
       "      <td>28242.000000</td>\n",
       "    </tr>\n",
       "    <tr>\n",
       "      <th>mean</th>\n",
       "      <td>2001.544296</td>\n",
       "      <td>1149.05598</td>\n",
       "      <td>37076.909344</td>\n",
       "      <td>20.542627</td>\n",
       "      <td>77053.332094</td>\n",
       "    </tr>\n",
       "    <tr>\n",
       "      <th>std</th>\n",
       "      <td>7.051905</td>\n",
       "      <td>709.81215</td>\n",
       "      <td>59958.784665</td>\n",
       "      <td>6.312051</td>\n",
       "      <td>84956.612897</td>\n",
       "    </tr>\n",
       "    <tr>\n",
       "      <th>min</th>\n",
       "      <td>1990.000000</td>\n",
       "      <td>51.00000</td>\n",
       "      <td>0.040000</td>\n",
       "      <td>1.300000</td>\n",
       "      <td>50.000000</td>\n",
       "    </tr>\n",
       "    <tr>\n",
       "      <th>25%</th>\n",
       "      <td>1995.000000</td>\n",
       "      <td>593.00000</td>\n",
       "      <td>1702.000000</td>\n",
       "      <td>16.702500</td>\n",
       "      <td>19919.250000</td>\n",
       "    </tr>\n",
       "    <tr>\n",
       "      <th>50%</th>\n",
       "      <td>2001.000000</td>\n",
       "      <td>1083.00000</td>\n",
       "      <td>17529.440000</td>\n",
       "      <td>21.510000</td>\n",
       "      <td>38295.000000</td>\n",
       "    </tr>\n",
       "    <tr>\n",
       "      <th>75%</th>\n",
       "      <td>2008.000000</td>\n",
       "      <td>1668.00000</td>\n",
       "      <td>48687.880000</td>\n",
       "      <td>26.000000</td>\n",
       "      <td>104676.750000</td>\n",
       "    </tr>\n",
       "    <tr>\n",
       "      <th>max</th>\n",
       "      <td>2013.000000</td>\n",
       "      <td>3240.00000</td>\n",
       "      <td>367778.000000</td>\n",
       "      <td>30.650000</td>\n",
       "      <td>501412.000000</td>\n",
       "    </tr>\n",
       "  </tbody>\n",
       "</table>\n",
       "</div>"
      ],
      "text/plain": [
       "               Year  average_rain_fall_mm_per_year  pesticides_tonnes  \\\n",
       "count  28242.000000                    28242.00000       28242.000000   \n",
       "mean    2001.544296                     1149.05598       37076.909344   \n",
       "std        7.051905                      709.81215       59958.784665   \n",
       "min     1990.000000                       51.00000           0.040000   \n",
       "25%     1995.000000                      593.00000        1702.000000   \n",
       "50%     2001.000000                     1083.00000       17529.440000   \n",
       "75%     2008.000000                     1668.00000       48687.880000   \n",
       "max     2013.000000                     3240.00000      367778.000000   \n",
       "\n",
       "           avg_temp    hg/ha_yield  \n",
       "count  28242.000000   28242.000000  \n",
       "mean      20.542627   77053.332094  \n",
       "std        6.312051   84956.612897  \n",
       "min        1.300000      50.000000  \n",
       "25%       16.702500   19919.250000  \n",
       "50%       21.510000   38295.000000  \n",
       "75%       26.000000  104676.750000  \n",
       "max       30.650000  501412.000000  "
      ]
     },
     "execution_count": 9,
     "metadata": {},
     "output_type": "execute_result"
    }
   ],
   "source": [
    "df.describe()"
   ]
  },
  {
   "cell_type": "code",
   "execution_count": 10,
   "metadata": {
    "execution": {
     "iopub.execute_input": "2022-10-07T07:24:50.193406Z",
     "iopub.status.busy": "2022-10-07T07:24:50.192750Z",
     "iopub.status.idle": "2022-10-07T07:24:50.210812Z",
     "shell.execute_reply": "2022-10-07T07:24:50.209179Z",
     "shell.execute_reply.started": "2022-10-07T07:24:50.193336Z"
    }
   },
   "outputs": [
    {
     "name": "stdout",
     "output_type": "stream",
     "text": [
      "Area  =  101\n",
      "Item  =  10\n",
      "Year  =  23\n",
      "average_rain_fall_mm_per_year  =  100\n",
      "pesticides_tonnes  =  1673\n",
      "avg_temp  =  1831\n",
      "hg/ha_yield  =  11514\n"
     ]
    }
   ],
   "source": [
    "for col in df:\n",
    "    print(col,\" = \",df[col].nunique())"
   ]
  },
  {
   "cell_type": "code",
   "execution_count": 11,
   "metadata": {},
   "outputs": [
    {
     "data": {
      "text/plain": [
       "(array([16022.,  4874.,  2628.,  1884.,  1201.,   681.,   546.,   211.,\n",
       "          163.,    32.]),\n",
       " array([5.000000e+01, 5.018620e+04, 1.003224e+05, 1.504586e+05,\n",
       "        2.005948e+05, 2.507310e+05, 3.008672e+05, 3.510034e+05,\n",
       "        4.011396e+05, 4.512758e+05, 5.014120e+05]),\n",
       " <BarContainer object of 10 artists>)"
      ]
     },
     "execution_count": 11,
     "metadata": {},
     "output_type": "execute_result"
    },
    {
     "data": {
      "image/png": "[encoded data removed]",
      "text/plain": [
       "<Figure size 432x288 with 1 Axes>"
      ]
     },
     "metadata": {
      "needs_background": "light"
     },
     "output_type": "display_data"
    }
   ],
   "source": [
    "plt.figure()\n",
    "plt.hist(df[\"hg/ha_yield\"])"
   ]
  },
  {
   "cell_type": "code",
   "execution_count": 12,
   "metadata": {
    "execution": {
     "iopub.execute_input": "2022-10-07T07:25:01.611990Z",
     "iopub.status.busy": "2022-10-07T07:25:01.611470Z",
     "iopub.status.idle": "2022-10-07T07:25:02.026695Z",
     "shell.execute_reply": "2022-10-07T07:25:02.025693Z",
     "shell.execute_reply.started": "2022-10-07T07:25:01.611949Z"
    }
   },
   "outputs": [
    {
     "data": {
      "text/plain": [
       "<seaborn.axisgrid.FacetGrid at 0x1659f034160>"
      ]
     },
     "execution_count": 12,
     "metadata": {},
     "output_type": "execute_result"
    },
    {
     "data": {
      "image/png": "[encoded data removed]",
      "text/plain": [
       "<Figure size 360x360 with 1 Axes>"
      ]
     },
     "metadata": {
      "needs_background": "light"
     },
     "output_type": "display_data"
    }
   ],
   "source": [
    "sns.displot(df[\"avg_temp\"])"
   ]
  },
  {
   "cell_type": "code",
   "execution_count": 13,
   "metadata": {
    "execution": {
     "iopub.execute_input": "2022-10-07T07:25:08.789301Z",
     "iopub.status.busy": "2022-10-07T07:25:08.788831Z",
     "iopub.status.idle": "2022-10-07T07:25:09.087062Z",
     "shell.execute_reply": "2022-10-07T07:25:09.085545Z",
     "shell.execute_reply.started": "2022-10-07T07:25:08.789257Z"
    }
   },
   "outputs": [
    {
     "data": {
      "text/plain": [
       "<matplotlib.collections.PathCollection at 0x1659f1161c0>"
      ]
     },
     "execution_count": 13,
     "metadata": {},
     "output_type": "execute_result"
    },
    {
     "data": {
      "image/png": "[encoded data removed]",
      "text/plain": [
       "<Figure size 432x288 with 1 Axes>"
      ]
     },
     "metadata": {
      "needs_background": "light"
     },
     "output_type": "display_data"
    }
   ],
   "source": [
    "plt.scatter(x=df[\"avg_temp\"],y=df[\"hg/ha_yield\"])"
   ]
  },
  {
   "cell_type": "code",
   "execution_count": 14,
   "metadata": {
    "execution": {
     "iopub.execute_input": "2022-10-07T07:25:28.645743Z",
     "iopub.status.busy": "2022-10-07T07:25:28.645206Z",
     "iopub.status.idle": "2022-10-07T07:25:28.823594Z",
     "shell.execute_reply": "2022-10-07T07:25:28.822148Z",
     "shell.execute_reply.started": "2022-10-07T07:25:28.645695Z"
    }
   },
   "outputs": [
    {
     "data": {
      "text/plain": [
       "<AxesSubplot:xlabel='avg_temp'>"
      ]
     },
     "execution_count": 14,
     "metadata": {},
     "output_type": "execute_result"
    },
    {
     "data": {
      "image/png": "[encoded data removed]",
      "text/plain": [
       "<Figure size 432x288 with 1 Axes>"
      ]
     },
     "metadata": {
      "needs_background": "light"
     },
     "output_type": "display_data"
    }
   ],
   "source": [
    "sns.boxplot(data=df,x='avg_temp',palette='rainbow',orient='h')"
   ]
  },
  {
   "cell_type": "code",
   "execution_count": 15,
   "metadata": {
    "execution": {
     "iopub.execute_input": "2022-10-07T07:25:35.901797Z",
     "iopub.status.busy": "2022-10-07T07:25:35.901268Z",
     "iopub.status.idle": "2022-10-07T07:25:36.121057Z",
     "shell.execute_reply": "2022-10-07T07:25:36.119818Z",
     "shell.execute_reply.started": "2022-10-07T07:25:35.901745Z"
    }
   },
   "outputs": [
    {
     "data": {
      "text/plain": [
       "<AxesSubplot:xlabel='pesticides_tonnes'>"
      ]
     },
     "execution_count": 15,
     "metadata": {},
     "output_type": "execute_result"
    },
    {
     "data": {
      "image/png": "[encoded data removed]",
      "text/plain": [
       "<Figure size 432x288 with 1 Axes>"
      ]
     },
     "metadata": {
      "needs_background": "light"
     },
     "output_type": "display_data"
    }
   ],
   "source": [
    "sns.boxplot(data=df,x='pesticides_tonnes',palette='rainbow',orient='h')"
   ]
  },
  {
   "cell_type": "code",
   "execution_count": 16,
   "metadata": {
    "execution": {
     "iopub.execute_input": "2022-10-07T07:25:46.486162Z",
     "iopub.status.busy": "2022-10-07T07:25:46.485729Z",
     "iopub.status.idle": "2022-10-07T07:25:46.510321Z",
     "shell.execute_reply": "2022-10-07T07:25:46.508928Z",
     "shell.execute_reply.started": "2022-10-07T07:25:46.486127Z"
    }
   },
   "outputs": [
    {
     "name": "stdout",
     "output_type": "stream",
     "text": [
      "Old Shape:  (28242, 7)\n",
      "New Shape:  (28208, 7)\n"
     ]
    }
   ],
   "source": [
    "#drop outliers\n",
    "Q1 = np.percentile(df['avg_temp'], 25,\n",
    "                   interpolation = 'midpoint')\n",
    " \n",
    "Q3 = np.percentile(df['avg_temp'], 75,\n",
    "                   interpolation = 'midpoint')\n",
    "IQR = Q3 - Q1\n",
    " \n",
    "print(\"Old Shape: \", df.shape)\n",
    " \n",
    "# Upper bound\n",
    "upper = np.where(df['avg_temp'] >= (Q3+1.5*IQR))\n",
    "# Lower bound\n",
    "lower = np.where(df['avg_temp'] <= (Q1-1.5*IQR))\n",
    " \n",
    "''' Removing the Outliers '''\n",
    "df.drop(upper[0], inplace = True)\n",
    "df.drop(lower[0], inplace = True)\n",
    " \n",
    "print(\"New Shape: \", df.shape)"
   ]
  },
  {
   "cell_type": "code",
   "execution_count": null,
   "metadata": {},
   "outputs": [],
   "source": [
    "sns.pairplot(df)"
   ]
  },
  {
   "cell_type": "code",
   "execution_count": null,
   "metadata": {},
   "outputs": [],
   "source": [
    "sns.barplot(data=df,x=\"avg_temp\",y=\"Year\",)"
   ]
  },
  {
   "cell_type": "markdown",
   "metadata": {},
   "source": [
    "#### 3) Encoding our data"
   ]
  },
  {
   "cell_type": "code",
   "execution_count": 22,
   "metadata": {
    "execution": {
     "iopub.execute_input": "2022-10-07T07:25:58.062524Z",
     "iopub.status.busy": "2022-10-07T07:25:58.062052Z",
     "iopub.status.idle": "2022-10-07T07:25:58.086287Z",
     "shell.execute_reply": "2022-10-07T07:25:58.084717Z",
     "shell.execute_reply.started": "2022-10-07T07:25:58.062486Z"
    }
   },
   "outputs": [],
   "source": [
    "\"\"\"from sklearn.preprocessing import LabelEncoder\n",
    "encoder=LabelEncoder()\n",
    "df[\"Area\"]=encoder.fit_transform(df[\"Area\"])\n",
    "df[\"Item\"]=encoder.fit_transform(df[\"Item\"])\"\"\""
   ]
  },
  {
   "cell_type": "code",
   "execution_count": 23,
   "metadata": {
    "execution": {
     "iopub.execute_input": "2022-10-07T07:26:05.755562Z",
     "iopub.status.busy": "2022-10-07T07:26:05.755123Z",
     "iopub.status.idle": "2022-10-07T07:26:05.777357Z",
     "shell.execute_reply": "2022-10-07T07:26:05.775578Z",
     "shell.execute_reply.started": "2022-10-07T07:26:05.755526Z"
    }
   },
   "outputs": [
    {
     "data": {
      "text/html": [
       "<div>\n",
       "<style scoped>\n",
       "    .dataframe tbody tr th:only-of-type {\n",
       "        vertical-align: middle;\n",
       "    }\n",
       "\n",
       "    .dataframe tbody tr th {\n",
       "        vertical-align: top;\n",
       "    }\n",
       "\n",
       "    .dataframe thead th {\n",
       "        text-align: right;\n",
       "    }\n",
       "</style>\n",
       "<table border=\"1\" class=\"dataframe\">\n",
       "  <thead>\n",
       "    <tr style=\"text-align: right;\">\n",
       "      <th></th>\n",
       "      <th>Area</th>\n",
       "      <th>Item</th>\n",
       "      <th>Year</th>\n",
       "      <th>average_rain_fall_mm_per_year</th>\n",
       "      <th>pesticides_tonnes</th>\n",
       "      <th>avg_temp</th>\n",
       "      <th>hg/ha_yield</th>\n",
       "    </tr>\n",
       "  </thead>\n",
       "  <tbody>\n",
       "    <tr>\n",
       "      <th>0</th>\n",
       "      <td>0</td>\n",
       "      <td>1</td>\n",
       "      <td>1990</td>\n",
       "      <td>1485</td>\n",
       "      <td>121.00</td>\n",
       "      <td>16.37</td>\n",
       "      <td>36613</td>\n",
       "    </tr>\n",
       "    <tr>\n",
       "      <th>1</th>\n",
       "      <td>0</td>\n",
       "      <td>3</td>\n",
       "      <td>1990</td>\n",
       "      <td>1485</td>\n",
       "      <td>121.00</td>\n",
       "      <td>16.37</td>\n",
       "      <td>66667</td>\n",
       "    </tr>\n",
       "    <tr>\n",
       "      <th>2</th>\n",
       "      <td>0</td>\n",
       "      <td>4</td>\n",
       "      <td>1990</td>\n",
       "      <td>1485</td>\n",
       "      <td>121.00</td>\n",
       "      <td>16.37</td>\n",
       "      <td>23333</td>\n",
       "    </tr>\n",
       "    <tr>\n",
       "      <th>3</th>\n",
       "      <td>0</td>\n",
       "      <td>5</td>\n",
       "      <td>1990</td>\n",
       "      <td>1485</td>\n",
       "      <td>121.00</td>\n",
       "      <td>16.37</td>\n",
       "      <td>12500</td>\n",
       "    </tr>\n",
       "    <tr>\n",
       "      <th>4</th>\n",
       "      <td>0</td>\n",
       "      <td>6</td>\n",
       "      <td>1990</td>\n",
       "      <td>1485</td>\n",
       "      <td>121.00</td>\n",
       "      <td>16.37</td>\n",
       "      <td>7000</td>\n",
       "    </tr>\n",
       "    <tr>\n",
       "      <th>...</th>\n",
       "      <td>...</td>\n",
       "      <td>...</td>\n",
       "      <td>...</td>\n",
       "      <td>...</td>\n",
       "      <td>...</td>\n",
       "      <td>...</td>\n",
       "      <td>...</td>\n",
       "    </tr>\n",
       "    <tr>\n",
       "      <th>28237</th>\n",
       "      <td>100</td>\n",
       "      <td>4</td>\n",
       "      <td>2013</td>\n",
       "      <td>657</td>\n",
       "      <td>2550.07</td>\n",
       "      <td>19.76</td>\n",
       "      <td>22581</td>\n",
       "    </tr>\n",
       "    <tr>\n",
       "      <th>28238</th>\n",
       "      <td>100</td>\n",
       "      <td>5</td>\n",
       "      <td>2013</td>\n",
       "      <td>657</td>\n",
       "      <td>2550.07</td>\n",
       "      <td>19.76</td>\n",
       "      <td>3066</td>\n",
       "    </tr>\n",
       "    <tr>\n",
       "      <th>28239</th>\n",
       "      <td>100</td>\n",
       "      <td>6</td>\n",
       "      <td>2013</td>\n",
       "      <td>657</td>\n",
       "      <td>2550.07</td>\n",
       "      <td>19.76</td>\n",
       "      <td>13142</td>\n",
       "    </tr>\n",
       "    <tr>\n",
       "      <th>28240</th>\n",
       "      <td>100</td>\n",
       "      <td>7</td>\n",
       "      <td>2013</td>\n",
       "      <td>657</td>\n",
       "      <td>2550.07</td>\n",
       "      <td>19.76</td>\n",
       "      <td>22222</td>\n",
       "    </tr>\n",
       "    <tr>\n",
       "      <th>28241</th>\n",
       "      <td>100</td>\n",
       "      <td>8</td>\n",
       "      <td>2013</td>\n",
       "      <td>657</td>\n",
       "      <td>2550.07</td>\n",
       "      <td>19.76</td>\n",
       "      <td>22888</td>\n",
       "    </tr>\n",
       "  </tbody>\n",
       "</table>\n",
       "<p>28208 rows × 7 columns</p>\n",
       "</div>"
      ],
      "text/plain": [
       "       Area  Item  Year  average_rain_fall_mm_per_year  pesticides_tonnes  \\\n",
       "0         0     1  1990                           1485             121.00   \n",
       "1         0     3  1990                           1485             121.00   \n",
       "2         0     4  1990                           1485             121.00   \n",
       "3         0     5  1990                           1485             121.00   \n",
       "4         0     6  1990                           1485             121.00   \n",
       "...     ...   ...   ...                            ...                ...   \n",
       "28237   100     4  2013                            657            2550.07   \n",
       "28238   100     5  2013                            657            2550.07   \n",
       "28239   100     6  2013                            657            2550.07   \n",
       "28240   100     7  2013                            657            2550.07   \n",
       "28241   100     8  2013                            657            2550.07   \n",
       "\n",
       "       avg_temp  hg/ha_yield  \n",
       "0         16.37        36613  \n",
       "1         16.37        66667  \n",
       "2         16.37        23333  \n",
       "3         16.37        12500  \n",
       "4         16.37         7000  \n",
       "...         ...          ...  \n",
       "28237     19.76        22581  \n",
       "28238     19.76         3066  \n",
       "28239     19.76        13142  \n",
       "28240     19.76        22222  \n",
       "28241     19.76        22888  \n",
       "\n",
       "[28208 rows x 7 columns]"
      ]
     },
     "execution_count": 23,
     "metadata": {},
     "output_type": "execute_result"
    }
   ],
   "source": [
    "df"
   ]
  },
  {
   "cell_type": "code",
   "execution_count": 24,
   "metadata": {
    "execution": {
     "iopub.execute_input": "2022-10-07T07:26:11.496978Z",
     "iopub.status.busy": "2022-10-07T07:26:11.496492Z",
     "iopub.status.idle": "2022-10-07T07:26:12.390227Z",
     "shell.execute_reply": "2022-10-07T07:26:12.388418Z",
     "shell.execute_reply.started": "2022-10-07T07:26:11.496937Z"
    }
   },
   "outputs": [
    {
     "data": {
      "image/png": "[encoded data removed]",
      "text/plain": [
       "<Figure size 1440x720 with 2 Axes>"
      ]
     },
     "metadata": {
      "needs_background": "light"
     },
     "output_type": "display_data"
    }
   ],
   "source": [
    "plt.figure(figsize=((20,10)))\n",
    "sns.heatmap(df.corr(),annot=True)\n",
    "plt.show()"
   ]
  },
  {
   "cell_type": "markdown",
   "metadata": {},
   "source": []
  },
  {
   "cell_type": "code",
   "execution_count": 25,
   "metadata": {
    "execution": {
     "iopub.execute_input": "2022-10-07T07:26:21.079343Z",
     "iopub.status.busy": "2022-10-07T07:26:21.078902Z",
     "iopub.status.idle": "2022-10-07T07:26:21.109524Z",
     "shell.execute_reply": "2022-10-07T07:26:21.107895Z",
     "shell.execute_reply.started": "2022-10-07T07:26:21.079306Z"
    }
   },
   "outputs": [],
   "source": [
    "X=df.drop([\"hg/ha_yield\"],axis=1)\n",
    "y=df[\"hg/ha_yield\"]\n",
    "from sklearn.model_selection import train_test_split\n",
    "X_train,X_test,y_train,y_test=train_test_split(X,y,test_size=.33,random_state=0,shuffle=True)"
   ]
  },
  {
   "cell_type": "markdown",
   "metadata": {},
   "source": [
    "#### 4) Scaling our data"
   ]
  },
  {
   "cell_type": "code",
   "execution_count": 26,
   "metadata": {
    "execution": {
     "iopub.execute_input": "2022-10-07T07:26:31.063728Z",
     "iopub.status.busy": "2022-10-07T07:26:31.062977Z",
     "iopub.status.idle": "2022-10-07T07:26:31.084535Z",
     "shell.execute_reply": "2022-10-07T07:26:31.082576Z",
     "shell.execute_reply.started": "2022-10-07T07:26:31.063673Z"
    }
   },
   "outputs": [],
   "source": [
    "from sklearn.preprocessing import  StandardScaler\n",
    "scalar=StandardScaler()\n",
    "X_train=pd.DataFrame(scalar.fit_transform(X_train),columns=X_train.columns)\n",
    "X_test=pd.DataFrame(scalar.transform(X_test),columns=X_train.columns)\n"
   ]
  },
  {
   "cell_type": "markdown",
   "metadata": {},
   "source": [
    "## Regression\n"
   ]
  },
  {
   "cell_type": "code",
   "execution_count": 27,
   "metadata": {
    "execution": {
     "iopub.execute_input": "2022-10-07T07:26:36.775115Z",
     "iopub.status.busy": "2022-10-07T07:26:36.774670Z",
     "iopub.status.idle": "2022-10-07T07:26:36.923376Z",
     "shell.execute_reply": "2022-10-07T07:26:36.922031Z",
     "shell.execute_reply.started": "2022-10-07T07:26:36.775081Z"
    }
   },
   "outputs": [
    {
     "name": "stdout",
     "output_type": "stream",
     "text": [
      "R2 score: 0.08045488978006332\n"
     ]
    },
    {
     "data": {
      "text/html": [
       "<div>\n",
       "<style scoped>\n",
       "    .dataframe tbody tr th:only-of-type {\n",
       "        vertical-align: middle;\n",
       "    }\n",
       "\n",
       "    .dataframe tbody tr th {\n",
       "        vertical-align: top;\n",
       "    }\n",
       "\n",
       "    .dataframe thead th {\n",
       "        text-align: right;\n",
       "    }\n",
       "</style>\n",
       "<table border=\"1\" class=\"dataframe\">\n",
       "  <thead>\n",
       "    <tr style=\"text-align: right;\">\n",
       "      <th></th>\n",
       "      <th>actual</th>\n",
       "      <th>prediction:</th>\n",
       "    </tr>\n",
       "  </thead>\n",
       "  <tbody>\n",
       "    <tr>\n",
       "      <th>24465</th>\n",
       "      <td>69978</td>\n",
       "      <td>113470.452275</td>\n",
       "    </tr>\n",
       "    <tr>\n",
       "      <th>7582</th>\n",
       "      <td>8923</td>\n",
       "      <td>68994.607739</td>\n",
       "    </tr>\n",
       "    <tr>\n",
       "      <th>20430</th>\n",
       "      <td>15198</td>\n",
       "      <td>76471.683783</td>\n",
       "    </tr>\n",
       "    <tr>\n",
       "      <th>18559</th>\n",
       "      <td>40000</td>\n",
       "      <td>16670.958967</td>\n",
       "    </tr>\n",
       "    <tr>\n",
       "      <th>208</th>\n",
       "      <td>33649</td>\n",
       "      <td>110848.677948</td>\n",
       "    </tr>\n",
       "    <tr>\n",
       "      <th>...</th>\n",
       "      <td>...</td>\n",
       "      <td>...</td>\n",
       "    </tr>\n",
       "    <tr>\n",
       "      <th>8331</th>\n",
       "      <td>78184</td>\n",
       "      <td>100675.949401</td>\n",
       "    </tr>\n",
       "    <tr>\n",
       "      <th>3957</th>\n",
       "      <td>220095</td>\n",
       "      <td>114148.355986</td>\n",
       "    </tr>\n",
       "    <tr>\n",
       "      <th>24317</th>\n",
       "      <td>60135</td>\n",
       "      <td>98561.437361</td>\n",
       "    </tr>\n",
       "    <tr>\n",
       "      <th>1001</th>\n",
       "      <td>19999</td>\n",
       "      <td>51342.702956</td>\n",
       "    </tr>\n",
       "    <tr>\n",
       "      <th>24932</th>\n",
       "      <td>28692</td>\n",
       "      <td>86456.047765</td>\n",
       "    </tr>\n",
       "  </tbody>\n",
       "</table>\n",
       "<p>9309 rows × 2 columns</p>\n",
       "</div>"
      ],
      "text/plain": [
       "       actual     prediction:\n",
       "24465    69978  113470.452275\n",
       "7582      8923   68994.607739\n",
       "20430    15198   76471.683783\n",
       "18559    40000   16670.958967\n",
       "208      33649  110848.677948\n",
       "...        ...            ...\n",
       "8331     78184  100675.949401\n",
       "3957    220095  114148.355986\n",
       "24317    60135   98561.437361\n",
       "1001     19999   51342.702956\n",
       "24932    28692   86456.047765\n",
       "\n",
       "[9309 rows x 2 columns]"
      ]
     },
     "execution_count": 27,
     "metadata": {},
     "output_type": "execute_result"
    }
   ],
   "source": [
    "\n",
    "from sklearn.linear_model import LinearRegression\n",
    "reg=LinearRegression()\n",
    "reg.fit(X_train,y_train)\n",
    "y_pred=reg.predict(X_test)\n",
    "print('R2 score:' , metrics.r2_score(y_test, y_pred ))\n",
    "pd.DataFrame({\"actual \" :y_test,\"prediction:\": y_pred})"
   ]
  },
  {
   "cell_type": "code",
   "execution_count": 28,
   "metadata": {
    "execution": {
     "iopub.execute_input": "2022-10-07T07:26:46.607816Z",
     "iopub.status.busy": "2022-10-07T07:26:46.607333Z",
     "iopub.status.idle": "2022-10-07T07:26:48.396301Z",
     "shell.execute_reply": "2022-10-07T07:26:48.394959Z",
     "shell.execute_reply.started": "2022-10-07T07:26:46.607778Z"
    },
    "scrolled": true
   },
   "outputs": [
    {
     "name": "stdout",
     "output_type": "stream",
     "text": [
      "R2 score: 0.8960660212489647\n"
     ]
    },
    {
     "data": {
      "text/html": [
       "<div>\n",
       "<style scoped>\n",
       "    .dataframe tbody tr th:only-of-type {\n",
       "        vertical-align: middle;\n",
       "    }\n",
       "\n",
       "    .dataframe tbody tr th {\n",
       "        vertical-align: top;\n",
       "    }\n",
       "\n",
       "    .dataframe thead th {\n",
       "        text-align: right;\n",
       "    }\n",
       "</style>\n",
       "<table border=\"1\" class=\"dataframe\">\n",
       "  <thead>\n",
       "    <tr style=\"text-align: right;\">\n",
       "      <th></th>\n",
       "      <th>actual</th>\n",
       "      <th>prediction:</th>\n",
       "    </tr>\n",
       "  </thead>\n",
       "  <tbody>\n",
       "    <tr>\n",
       "      <th>24465</th>\n",
       "      <td>69978</td>\n",
       "      <td>132729.675252</td>\n",
       "    </tr>\n",
       "    <tr>\n",
       "      <th>7582</th>\n",
       "      <td>8923</td>\n",
       "      <td>-1934.923674</td>\n",
       "    </tr>\n",
       "    <tr>\n",
       "      <th>20430</th>\n",
       "      <td>15198</td>\n",
       "      <td>28603.457242</td>\n",
       "    </tr>\n",
       "    <tr>\n",
       "      <th>18559</th>\n",
       "      <td>40000</td>\n",
       "      <td>92878.750399</td>\n",
       "    </tr>\n",
       "    <tr>\n",
       "      <th>208</th>\n",
       "      <td>33649</td>\n",
       "      <td>70061.324950</td>\n",
       "    </tr>\n",
       "    <tr>\n",
       "      <th>...</th>\n",
       "      <td>...</td>\n",
       "      <td>...</td>\n",
       "    </tr>\n",
       "    <tr>\n",
       "      <th>8331</th>\n",
       "      <td>78184</td>\n",
       "      <td>95245.872899</td>\n",
       "    </tr>\n",
       "    <tr>\n",
       "      <th>3957</th>\n",
       "      <td>220095</td>\n",
       "      <td>224544.624794</td>\n",
       "    </tr>\n",
       "    <tr>\n",
       "      <th>24317</th>\n",
       "      <td>60135</td>\n",
       "      <td>83222.030682</td>\n",
       "    </tr>\n",
       "    <tr>\n",
       "      <th>1001</th>\n",
       "      <td>19999</td>\n",
       "      <td>37952.408978</td>\n",
       "    </tr>\n",
       "    <tr>\n",
       "      <th>24932</th>\n",
       "      <td>28692</td>\n",
       "      <td>29671.995486</td>\n",
       "    </tr>\n",
       "  </tbody>\n",
       "</table>\n",
       "<p>9309 rows × 2 columns</p>\n",
       "</div>"
      ],
      "text/plain": [
       "       actual     prediction:\n",
       "24465    69978  132729.675252\n",
       "7582      8923   -1934.923674\n",
       "20430    15198   28603.457242\n",
       "18559    40000   92878.750399\n",
       "208      33649   70061.324950\n",
       "...        ...            ...\n",
       "8331     78184   95245.872899\n",
       "3957    220095  224544.624794\n",
       "24317    60135   83222.030682\n",
       "1001     19999   37952.408978\n",
       "24932    28692   29671.995486\n",
       "\n",
       "[9309 rows x 2 columns]"
      ]
     },
     "execution_count": 28,
     "metadata": {},
     "output_type": "execute_result"
    }
   ],
   "source": [
    "from sklearn.ensemble import GradientBoostingRegressor\n",
    "GBR = GradientBoostingRegressor(n_estimators=100,learning_rate=0.4)\n",
    "GBR.fit(X_train, y_train)\n",
    "y_pred2 = GBR.predict(X_test)\n",
    "\n",
    "print('R2 score:' , metrics.r2_score(y_test, y_pred2 ))\n",
    "pd.DataFrame({\"actual \" :y_test,\"prediction:\": y_pred2})"
   ]
  },
  {
   "cell_type": "code",
   "execution_count": 29,
   "metadata": {
    "execution": {
     "iopub.execute_input": "2022-10-07T07:26:53.366500Z",
     "iopub.status.busy": "2022-10-07T07:26:53.366106Z",
     "iopub.status.idle": "2022-10-07T07:26:56.776225Z",
     "shell.execute_reply": "2022-10-07T07:26:56.774487Z",
     "shell.execute_reply.started": "2022-10-07T07:26:53.366467Z"
    }
   },
   "outputs": [
    {
     "name": "stdout",
     "output_type": "stream",
     "text": [
      "R2 score: 0.9834410323434012\n"
     ]
    }
   ],
   "source": [
    "from sklearn.ensemble import RandomForestRegressor\n",
    "reeg=RandomForestRegressor(n_estimators=60,random_state=0)\n",
    "reeg.fit(X_train,y_train)\n",
    "y_pred3 = reeg.predict(X_test)\n",
    "pd.DataFrame({\"actual \" :y_test,\"prediction:\": y_pred3})\n",
    "print('R2 score:' , metrics.r2_score(y_test, y_pred3))\n"
   ]
  },
  {
   "cell_type": "code",
   "execution_count": 30,
   "metadata": {
    "execution": {
     "iopub.execute_input": "2022-10-07T07:28:06.815777Z",
     "iopub.status.busy": "2022-10-07T07:28:06.815161Z",
     "iopub.status.idle": "2022-10-07T07:28:07.295553Z",
     "shell.execute_reply": "2022-10-07T07:28:07.294256Z",
     "shell.execute_reply.started": "2022-10-07T07:28:06.815727Z"
    }
   },
   "outputs": [
    {
     "name": "stdout",
     "output_type": "stream",
     "text": [
      "score train : 0.9975415342566807\n",
      "score test : 0.9834410323434012\n"
     ]
    }
   ],
   "source": [
    "print(\"score train :\",reeg.score(X_train,y_train))\n",
    "print(\"score test :\",reeg.score(X_test,y_test))"
   ]
  },
  {
   "cell_type": "markdown",
   "metadata": {},
   "source": [
    "# > **random forest regressor is the best**"
   ]
  },
  {
   "cell_type": "markdown",
   "metadata": {},
   "source": []
  }
 ],
 "metadata": {
  "kernelspec": {
   "display_name": "Python 3 (ipykernel)",
   "language": "python",
   "name": "python3"
  },
  "language_info": {
   "codemirror_mode": {
    "name": "ipython",
    "version": 3
   },
   "file_extension": ".py",
   "mimetype": "text/x-python",
   "name": "python",
   "nbconvert_exporter": "python",
   "pygments_lexer": "ipython3",
   "version": "3.9.12"
  }
 },
 "nbformat": 4,
 "nbformat_minor": 4
}
